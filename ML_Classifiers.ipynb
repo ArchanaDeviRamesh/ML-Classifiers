{
 "cells": [
  {
   "cell_type": "markdown",
   "metadata": {
    "id": "syN-WI5zxSbS"
   },
   "source": [
    "# **Predicting Cardio Disease**"
   ]
  },
  {
   "cell_type": "markdown",
   "metadata": {
    "id": "myeHBqqEYJ-G"
   },
   "source": [
    "# **Importing Required Libraries**"
   ]
  },
  {
   "cell_type": "code",
   "execution_count": 1,
   "metadata": {},
   "outputs": [
    {
     "name": "stdout",
     "output_type": "stream",
     "text": [
      "Requirement already satisfied: mlxtend in c:\\users\\archana\\anaconda3\\lib\\site-packages (0.18.0)\n",
      "Requirement already satisfied: pandas>=0.24.2 in c:\\users\\archana\\anaconda3\\lib\\site-packages (from mlxtend) (1.1.3)\n",
      "Requirement already satisfied: numpy>=1.16.2 in c:\\users\\archana\\anaconda3\\lib\\site-packages (from mlxtend) (1.19.2)\n",
      "Requirement already satisfied: matplotlib>=3.0.0 in c:\\users\\archana\\anaconda3\\lib\\site-packages (from mlxtend) (3.3.2)\n",
      "Requirement already satisfied: scipy>=1.2.1 in c:\\users\\archana\\anaconda3\\lib\\site-packages (from mlxtend) (1.5.2)\n",
      "Requirement already satisfied: scikit-learn>=0.20.3 in c:\\users\\archana\\anaconda3\\lib\\site-packages (from mlxtend) (0.23.2)\n",
      "Requirement already satisfied: setuptools in c:\\users\\archana\\anaconda3\\lib\\site-packages (from mlxtend) (50.3.1.post20201107)\n",
      "Requirement already satisfied: joblib>=0.13.2 in c:\\users\\archana\\anaconda3\\lib\\site-packages (from mlxtend) (0.17.0)\n",
      "Requirement already satisfied: python-dateutil>=2.7.3 in c:\\users\\archana\\anaconda3\\lib\\site-packages (from pandas>=0.24.2->mlxtend) (2.8.1)\n",
      "Requirement already satisfied: pytz>=2017.2 in c:\\users\\archana\\anaconda3\\lib\\site-packages (from pandas>=0.24.2->mlxtend) (2020.1)\n",
      "Requirement already satisfied: certifi>=2020.06.20 in c:\\users\\archana\\anaconda3\\lib\\site-packages (from matplotlib>=3.0.0->mlxtend) (2020.12.5)\n",
      "Requirement already satisfied: kiwisolver>=1.0.1 in c:\\users\\archana\\anaconda3\\lib\\site-packages (from matplotlib>=3.0.0->mlxtend) (1.3.0)\n",
      "Requirement already satisfied: pyparsing!=2.0.4,!=2.1.2,!=2.1.6,>=2.0.3 in c:\\users\\archana\\anaconda3\\lib\\site-packages (from matplotlib>=3.0.0->mlxtend) (2.4.7)\n",
      "Requirement already satisfied: pillow>=6.2.0 in c:\\users\\archana\\anaconda3\\lib\\site-packages (from matplotlib>=3.0.0->mlxtend) (8.0.1)\n",
      "Requirement already satisfied: cycler>=0.10 in c:\\users\\archana\\anaconda3\\lib\\site-packages (from matplotlib>=3.0.0->mlxtend) (0.10.0)\n",
      "Requirement already satisfied: threadpoolctl>=2.0.0 in c:\\users\\archana\\anaconda3\\lib\\site-packages (from scikit-learn>=0.20.3->mlxtend) (2.1.0)\n",
      "Requirement already satisfied: six>=1.5 in c:\\users\\archana\\anaconda3\\lib\\site-packages (from python-dateutil>=2.7.3->pandas>=0.24.2->mlxtend) (1.12.0)\n",
      "Note: you may need to restart the kernel to use updated packages.\n"
     ]
    }
   ],
   "source": [
    "pip install mlxtend"
   ]
  },
  {
   "cell_type": "code",
   "execution_count": 2,
   "metadata": {
    "id": "zP_epB_sVtC1"
   },
   "outputs": [],
   "source": [
    "import pandas as pd\n",
    "import numpy as np\n",
    "from tqdm.notebook import tqdm\n",
    "import matplotlib.pyplot as plt\n",
    "import seaborn as sns\n",
    "import time\n",
    "\n",
    "from sklearn.preprocessing import MinMaxScaler\n",
    "from sklearn.model_selection import StratifiedKFold\n",
    "from sklearn.model_selection import train_test_split\n",
    "\n",
    "from sklearn.neighbors import KNeighborsClassifier\n",
    "from mlxtend.feature_selection import SequentialFeatureSelector as SFS\n",
    "\n",
    "from sklearn.model_selection import GridSearchCV\n",
    "from sklearn.linear_model import LogisticRegression\n",
    "from sklearn.tree import DecisionTreeClassifier\n",
    "from sklearn.neighbors import KNeighborsClassifier\n",
    "from sklearn.naive_bayes import GaussianNB\n",
    "from sklearn.ensemble import RandomForestClassifier\n",
    "from sklearn.linear_model import SGDClassifier\n",
    "from sklearn.calibration import CalibratedClassifierCV\n",
    "\n",
    "from sklearn.metrics import confusion_matrix\n",
    "from sklearn.metrics import accuracy_score\n",
    "from sklearn.metrics import precision_recall_fscore_support\n",
    "from sklearn.metrics import roc_curve\n",
    "from sklearn.metrics import auc"
   ]
  },
  {
   "cell_type": "markdown",
   "metadata": {
    "id": "1qa4tkzLYTKt"
   },
   "source": [
    "# **Feature Selection Using Sequential Floating Backward Search**"
   ]
  },
  {
   "cell_type": "code",
   "execution_count": 3,
   "metadata": {
    "id": "XPrDAC1wVtC3"
   },
   "outputs": [],
   "source": [
    "#Selecting features using Sequential Floating Backward Search\n",
    "def sfbs_calc(X, y, model):\n",
    "\n",
    "  #SFBS using KNN as classifier\n",
    "  #knn = KNeighborsClassifier(n_neighbors=3) \n",
    "  sfbs = SFS(model, \n",
    "            k_features=6,  #to select number of features\n",
    "            forward=False, #to select forward/backward\n",
    "            floating=True, #to set if floating required or not\n",
    "            scoring='accuracy',\n",
    "            cv=10, #10 fold cross validation\n",
    "            n_jobs=-1\n",
    "            )\n",
    "\n",
    "  #after applying sfbs fit the data:\n",
    "  features = ['age_year', 'gender', 'height', 'weight', 'ap_hi',\n",
    "        'ap_lo', 'cholesterol', 'gluc', 'smoke', 'alco', 'active']\n",
    "\n",
    "  sfbs.fit(X, y, custom_feature_names=features)\n",
    "  return sfbs"
   ]
  },
  {
   "cell_type": "code",
   "execution_count": 4,
   "metadata": {
    "colab": {
     "base_uri": "https://localhost:8080/"
    },
    "id": "B6egfqEW1P2n",
    "outputId": "dc5d8480-04d4-4c6d-f230-86cbc09fa5fb"
   },
   "outputs": [
    {
     "name": "stdout",
     "output_type": "stream",
     "text": [
      "   id  age_days   age_year  gender  height  weight  ap_hi  ap_lo  cholesterol  \\\n",
      "0   0     18393  50.391781       2     168    62.0    110     80            1   \n",
      "1   1     20228  55.419178       1     156    85.0    140     90            3   \n",
      "2   2     18857  51.663014       1     165    64.0    130     70            3   \n",
      "3   3     17623  48.282192       2     169    82.0    150    100            1   \n",
      "4   4     17474  47.873973       1     156    56.0    100     60            1   \n",
      "\n",
      "   gluc  smoke  alco  active  cardio  \n",
      "0     1      0     0       1       0  \n",
      "1     1      0     0       1       1  \n",
      "2     1      0     0       0       1  \n",
      "3     1      0     0       1       1  \n",
      "4     1      0     0       0       0  \n",
      "\n",
      "Dataframe summary\n",
      "<class 'pandas.core.frame.DataFrame'>\n",
      "RangeIndex: 70000 entries, 0 to 69999\n",
      "Data columns (total 14 columns):\n",
      " #   Column       Non-Null Count  Dtype  \n",
      "---  ------       --------------  -----  \n",
      " 0   id           70000 non-null  int64  \n",
      " 1   age_days     70000 non-null  int64  \n",
      " 2   age_year     70000 non-null  float64\n",
      " 3   gender       70000 non-null  int64  \n",
      " 4   height       70000 non-null  int64  \n",
      " 5   weight       70000 non-null  float64\n",
      " 6   ap_hi        70000 non-null  int64  \n",
      " 7   ap_lo        70000 non-null  int64  \n",
      " 8   cholesterol  70000 non-null  int64  \n",
      " 9   gluc         70000 non-null  int64  \n",
      " 10  smoke        70000 non-null  int64  \n",
      " 11  alco         70000 non-null  int64  \n",
      " 12  active       70000 non-null  int64  \n",
      " 13  cardio       70000 non-null  int64  \n",
      "dtypes: float64(2), int64(12)\n",
      "memory usage: 7.5 MB\n",
      "None\n"
     ]
    }
   ],
   "source": [
    "#reading the dataset\n",
    "df = pd.read_csv(\"data.csv\")\n",
    "print(df.head())\n",
    "\n",
    "print(\"\\nDataframe summary\")\n",
    "print(df.info())"
   ]
  },
  {
   "cell_type": "markdown",
   "metadata": {
    "id": "2v0TUnbXYle5"
   },
   "source": [
    "**Checking for Missing data and Class Imbalance**"
   ]
  },
  {
   "cell_type": "code",
   "execution_count": 5,
   "metadata": {
    "id": "IF4zQ0ELVtC5",
    "outputId": "c7c5142b-da9b-4da7-94c6-91c261dee225"
   },
   "outputs": [
    {
     "name": "stdout",
     "output_type": "stream",
     "text": [
      "\n",
      "Checking count of instances in each class\n",
      "0    35021\n",
      "1    34979\n",
      "Name: cardio, dtype: int64\n",
      "\n",
      "Checking for null values\n",
      "id             0\n",
      "age_days       0\n",
      "age_year       0\n",
      "gender         0\n",
      "height         0\n",
      "weight         0\n",
      "ap_hi          0\n",
      "ap_lo          0\n",
      "cholesterol    0\n",
      "gluc           0\n",
      "smoke          0\n",
      "alco           0\n",
      "active         0\n",
      "cardio         0\n",
      "dtype: int64\n"
     ]
    }
   ],
   "source": [
    "# checking count of instances in each class\n",
    "print(\"\\nChecking count of instances in each class\")\n",
    "print(df['cardio'].value_counts())\n",
    "\n",
    "# checking for missing values\n",
    "print(\"\\nChecking for null values\")\n",
    "print(df.isna().sum())"
   ]
  },
  {
   "cell_type": "markdown",
   "metadata": {
    "id": "Yei6sPD6YyLh"
   },
   "source": [
    "**Checking for Co-relation between features**"
   ]
  },
  {
   "cell_type": "code",
   "execution_count": 6,
   "metadata": {
    "colab": {
     "base_uri": "https://localhost:8080/",
     "height": 477
    },
    "id": "T-CEX_NJVtC6",
    "outputId": "69f8f562-f572-493c-9db0-8548ef3b0ec5"
   },
   "outputs": [
    {
     "data": {
      "image/png": "[encoded data removed]",
      "text/plain": [
       "<Figure size 864x504 with 2 Axes>"
      ]
     },
     "metadata": {
      "needs_background": "light"
     },
     "output_type": "display_data"
    }
   ],
   "source": [
    "# checking correlation between features\n",
    "corrMatrix = round(df.corr(),2)\n",
    "fig, ax = plt.subplots(figsize=(12,7))\n",
    "sns.heatmap(corrMatrix, annot=True, ax=ax)\n",
    "plt.show()"
   ]
  },
  {
   "cell_type": "code",
   "execution_count": 7,
   "metadata": {
    "colab": {
     "base_uri": "https://localhost:8080/"
    },
    "id": "-zXbsZ3HVtC7",
    "outputId": "5aa37cfa-53cb-41c1-f9d0-1e98d25d2e9b"
   },
   "outputs": [
    {
     "name": "stdout",
     "output_type": "stream",
     "text": [
      "\n",
      "Removed ID column and age_days column - age_days and age_years have correlation value of 1\n",
      "    age_year  gender  height  weight  ap_hi  ap_lo  cholesterol  gluc  smoke  \\\n",
      "0  50.391781       2     168    62.0    110     80            1     1      0   \n",
      "1  55.419178       1     156    85.0    140     90            3     1      0   \n",
      "2  51.663014       1     165    64.0    130     70            3     1      0   \n",
      "3  48.282192       2     169    82.0    150    100            1     1      0   \n",
      "4  47.873973       1     156    56.0    100     60            1     1      0   \n",
      "\n",
      "   alco  active  cardio  \n",
      "0     0       1       0  \n",
      "1     0       1       1  \n",
      "2     0       0       1  \n",
      "3     0       1       1  \n",
      "4     0       0       0  \n"
     ]
    }
   ],
   "source": [
    "#removing ID column and age_days column - age_days and age_years have correlation value of 1\n",
    "df = df.iloc[:, 2:]\n",
    "print(\"\\nRemoved ID column and age_days column - age_days and age_years have correlation value of 1\")\n",
    "print(df.head())\n",
    "\n",
    "X = df.iloc[:, :-1]\n",
    "y = df['cardio']"
   ]
  },
  {
   "cell_type": "markdown",
   "metadata": {
    "id": "Cjj5WJpYZGHA"
   },
   "source": [
    "# **Defining the six Classifier Models**"
   ]
  },
  {
   "cell_type": "code",
   "execution_count": 13,
   "metadata": {
    "id": "XR-Kw-1wVtC8"
   },
   "outputs": [],
   "source": [
    "# keeping all the models inside a dictionary so that the accuracies can be recorded against each model in the dictionary\n",
    "\n",
    "models = {}\n",
    "model_params = {}\n",
    "\n",
    "\n",
    "models['NB_Gaussian'] = GaussianNB()\n",
    "model_params['NB_Gaussian'] = {}\n",
    "\n",
    "\n",
    "models['Decision_Tree'] = DecisionTreeClassifier()\n",
    "model_params['Decision_Tree'] = {'criterion':['gini', 'entropy']}\n",
    "\n",
    "models['SGD'] = SGDClassifier(loss='hinge')\n",
    "model_params['SGD'] = {}\n",
    "\n",
    "\n",
    "#For one iteration KNN ran for 15 minutes and took 1 hour 15 minutes for 5 fold CV\n",
    "models['Logistic_Regression'] = LogisticRegression(max_iter=130)\n",
    "model_params['Logistic_Regression'] = {'solver':['newton-cg', 'lbfgs', 'liblinear', 'sag', 'saga'],'max_iter':range(80,140)}\n",
    "\n",
    "#For one iteration KNN ran for 20 minutes and took 2 hours for 5 fold CV\n",
    "models['KNN'] = KNeighborsClassifier(weights = 'distance')\n",
    "model_params['KNN'] = {'n_neighbors':range(3,8)}\n",
    "\n",
    "#For one iteration RF ran for 1 hour and took 5 hours for 5 fold CV\n",
    "models['RF'] = RandomForestClassifier(random_state = 0)\n",
    "model_params['RF'] = {'n_estimators':range (90,210,20)}\n",
    "\n",
    "\n",
    "# list of n_folds for cross validation. \n",
    "n_fold = 5"
   ]
  },
  {
   "cell_type": "markdown",
   "metadata": {
    "id": "1MBSrjQKZicl"
   },
   "source": [
    "**Stratified K fold Cross Validation** \n",
    "\n",
    "Feature Scaling and Feature Selection done for training set in every iteration\n",
    "\n",
    "Hyper parameter tuning done using Grid Search"
   ]
  },
  {
   "cell_type": "code",
   "execution_count": 9,
   "metadata": {
    "colab": {
     "base_uri": "https://localhost:8080/",
     "height": 1000,
     "referenced_widgets": [
      "bdd4ddaa2260454a818cd5c069a934ce",
      "43c1ae01f83845a8b6c718b5be74f471",
      "86e1d8a2c6d045909770e9cf813f0cac",
      "6299cd691fb644629b30f30e90106e88",
      "ee1f31110824482cad7a31a8251e0df9",
      "2fd553b3d79e46f7adfab826fea6c8ac",
      "3debf3575c354ae1918197a8a04fb6c4",
      "8c3d73ac01ec43169ea469172e131de9"
     ]
    },
    "id": "BtUqJ_dyDIa6",
    "outputId": "c322398f-e4f7-49d8-dc0f-985125c64055",
    "scrolled": false
   },
   "outputs": [
    {
     "name": "stdout",
     "output_type": "stream",
     "text": [
      "\n",
      " Stratified KFold with 5 folds\n"
     ]
    },
    {
     "data": {
      "application/vnd.jupyter.widget-view+json": {
       "model_id": "7b1a654d679a4399a09d11599ab35d48",
       "version_major": 2,
       "version_minor": 0
      },
      "text/plain": [
       "HBox(children=(HTML(value=''), FloatProgress(value=0.0, max=5.0), HTML(value='')))"
      ]
     },
     "metadata": {},
     "output_type": "display_data"
    },
    {
     "name": "stdout",
     "output_type": "stream",
     "text": [
      "\n",
      "Iteration 1\n",
      "Running model: NB_Gaussian\n",
      "Finding Feature subset....\n",
      "Tuning hyperparameters....\n",
      "Training model....\n",
      "Evaluating model....\n",
      "Model total time: 22.49995517730713\n",
      "Running model: SGD\n",
      "Finding Feature subset....\n",
      "Tuning hyperparameters....\n",
      "Training model....\n",
      "Evaluating model....\n",
      "Model total time: 61.781203508377075\n",
      "Iteration 1 total time: 84.35097241401672\n",
      "\n",
      "Iteration 2\n",
      "Running model: NB_Gaussian\n",
      "Finding Feature subset....\n",
      "Tuning hyperparameters....\n",
      "Training model....\n",
      "Evaluating model....\n",
      "Model total time: 12.650198698043823\n",
      "Running model: SGD\n",
      "Finding Feature subset....\n",
      "Tuning hyperparameters....\n",
      "Training model....\n",
      "Evaluating model....\n",
      "Model total time: 56.585790395736694\n",
      "Iteration 2 total time: 69.28038334846497\n",
      "\n",
      "Iteration 3\n",
      "Running model: NB_Gaussian\n",
      "Finding Feature subset....\n",
      "Tuning hyperparameters....\n",
      "Training model....\n",
      "Evaluating model....\n",
      "Model total time: 12.13822317123413\n",
      "Running model: SGD\n",
      "Finding Feature subset....\n",
      "Tuning hyperparameters....\n",
      "Training model....\n",
      "Evaluating model....\n",
      "Model total time: 85.83562278747559\n",
      "Iteration 3 total time: 98.04278206825256\n",
      "\n",
      "Iteration 4\n",
      "Running model: NB_Gaussian\n",
      "Finding Feature subset....\n",
      "Tuning hyperparameters....\n",
      "Training model....\n",
      "Evaluating model....\n",
      "Model total time: 15.357489347457886\n",
      "Running model: SGD\n",
      "Finding Feature subset....\n",
      "Tuning hyperparameters....\n",
      "Training model....\n",
      "Evaluating model....\n",
      "Model total time: 100.46121287345886\n",
      "Iteration 4 total time: 115.92791843414307\n",
      "\n",
      "Iteration 5\n",
      "Running model: NB_Gaussian\n",
      "Finding Feature subset....\n",
      "Tuning hyperparameters....\n",
      "Training model....\n",
      "Evaluating model....\n",
      "Model total time: 11.833998203277588\n",
      "Running model: SGD\n",
      "Finding Feature subset....\n",
      "Tuning hyperparameters....\n",
      "Training model....\n",
      "Evaluating model....\n",
      "Model total time: 54.30200242996216\n",
      "Iteration 5 total time: 66.19781851768494\n",
      "\n",
      "\n",
      "The below features are selected by the models atleast once during the feature selection phase in 5 fold CV\n",
      "\n",
      "Model: NB_Gaussian\n",
      "Features: ['active', 'age_year', 'alco', 'cholesterol', 'smoke', 'weight', 'gender']\n",
      "\n",
      "Model: SGD\n",
      "Features: ['active', 'age_year', 'ap_hi', 'cholesterol', 'gender', 'weight', 'alco', 'ap_lo', 'smoke', 'height']\n"
     ]
    }
   ],
   "source": [
    "\n",
    "#print(\"\\nCheck point 1....\")\n",
    "print(\"\\n Stratified KFold with {} folds\".format(n_fold))\n",
    "\n",
    "# create n stratified folds for CV\n",
    "s_kfold = StratifiedKFold(n_splits = n_fold, shuffle = True, random_state = 1)\n",
    "\n",
    "# dictionary to keep track of accuracy of all the models in each iteration of kfolds\n",
    "# sample for 3fold CV: model_accuracies = {'Logistic_Regression':[0.7,0.8,0.7], 'KNN':[0.8,0.9,0.8]}\n",
    "model_accuracies = {}\n",
    "model_metrics = {}\n",
    "\n",
    "# dictionary to keep track of parameters for plotting roc_auc of all the models from each iteration of kfolds\n",
    "# sample for 3fold CV: model_auc_roc = {'Logistic_Regression':[(fpr,tpr,auc), (fpr,tpr,auc),..], 'KNN':[(fpr,tpr,auc),(fpr,tpr,auc),.]}\n",
    "# fpr --> false positive rates, tpr --> true positive rates, auc --> auc score\n",
    "model_auc_roc = {}\n",
    "\n",
    "model_features = {}\n",
    "\n",
    "# flag variable to initialize list variable for each model in the above dictionary to record model_accuracy and model_auc\n",
    "# this variable is set to False inside the first iteration of kfold CV\n",
    "initialization = True\n",
    "curr_iter = 1\n",
    "\n",
    "# tqdm is just for visualizing the progress\n",
    "# parameter y is enough to split the indices in kfold stratified CV, np.zeros(len(y)) is just placeholder for X\n",
    "# split() returns the training instance indices and testing instance indices corresponding to the nfolds\n",
    "for train_index, test_index in tqdm(s_kfold.split(np.zeros(len(y)), y), total=s_kfold.get_n_splits()):\n",
    "  print(\"\\nIteration {}\".format(curr_iter))\n",
    "  iter_start_time = time.time()\n",
    "  #print(\"Start time: {}\".format(iter_start_time))\n",
    "\n",
    "  #print(\"\\ncheck point 2....\")\n",
    "  # separating X and y for training and testing\n",
    "  X_train, X_test = X.iloc[train_index], X.iloc[test_index]\n",
    "  y_train, y_test = y.iloc[train_index], y.iloc[test_index]\n",
    "\n",
    "  # scaling training and testing dataset separately\n",
    "  scaler = MinMaxScaler()\n",
    "  X_train = scaler.fit_transform(X_train)\n",
    "  X_test = scaler.transform(X_test)\n",
    "\n",
    "  # initializing lists of models_accuracies and model_auc_roc\n",
    "  if initialization:\n",
    "    for model in models:\n",
    "      model_accuracies[model] = []\n",
    "      model_auc_roc[model] = []\n",
    "      model_features[model] = []\n",
    "      model_metrics[model] = []\n",
    "    initialization = False\n",
    "\n",
    "  # each iteration of k-fold stratified CV applied for all the models\n",
    "  for model in models:\n",
    "    print(\"Running model: {}\".format(model))\n",
    "    model_start_time = time.time()\n",
    "    #print(\"Start time: {}\".format(model_start_time))\n",
    "    #print(\"\\ncheck point 3....\")        \n",
    "\n",
    "    # selecting features with the training dataset\n",
    "    print(\"Finding Feature subset....\")\n",
    "    features_subset = sfbs_calc(X_train, y_train, models[model])\n",
    "\n",
    "    fs_current = list(features_subset.k_feature_names_)\n",
    "    '''print(\"Model: {}\".format(model))\n",
    "    print(\"Current Features: {}\".format(fs_current))\n",
    "    print(\"Overall features without current features: {}\".format(model_features[model]))'''\n",
    "\n",
    "    # to store the features selected at each iteration\n",
    "    additional_diff = np.setdiff1d(fs_current, model_features[model])\n",
    "    model_features[model].extend(additional_diff)\n",
    "\n",
    "    #print(\"Overall features with current features: {}\".format(model_features[model]))\n",
    "\n",
    "    # transforming the training dataset with the features selected from above step\n",
    "    X_train_subset = features_subset.transform(X_train)\n",
    "\n",
    "    # transforming the testing dataset with the features selected from above step\n",
    "    X_test_subset = features_subset.transform(X_test)\n",
    "\n",
    "    # finding best hyperparameters for\n",
    "    print(\"Tuning hyperparameters....\")\n",
    "    grid_search = GridSearchCV(models[model],model_params[model], cv=10, scoring='accuracy')\n",
    "    grid_search.fit(X_train_subset, y_train)\n",
    "    #print(grid_search.best_estimator_)\n",
    "    current_model = grid_search.best_estimator_\n",
    "\n",
    "    print(\"Training model....\")\n",
    "    current_model.fit(X_train_subset, y_train)\n",
    "\n",
    "    # since SGD with hinge loss does not have probability estimates, calibrating using below for probability estimates\n",
    "    if model=='SGD':\n",
    "        # cv=prefit tells calibrator that the current_model is already fit with training data\n",
    "        # calibrated model is again taken as current_model and proceeded further\n",
    "        calibrated_classfier = CalibratedClassifierCV(current_model, cv='prefit')\n",
    "        current_model = calibrated_classfier.fit(X_train_subset, y_train)\n",
    "\n",
    "    # accuracy score of a model is calculated using the training dataset and \n",
    "    # it is appended to dictionary for corresponding iteration of kfold\n",
    "    print(\"Evaluating model....\")\n",
    "    #model_accuracies[model].append(current_model.score(X_test_subset, y_test))\n",
    "    pred_y = current_model.predict(X_test_subset)\n",
    "\n",
    "    model_accuracies[model].append(accuracy_score(y_test, pred_y))\n",
    "    model_metrics[model].append(precision_recall_fscore_support(y_test, pred_y, average = 'binary'))\n",
    "\n",
    "\n",
    "    # roc_auc works on probabilities, hence predicting probabilities using predict_proba() with testing dataset\n",
    "    proba_ = current_model.predict_proba(X_test_subset)\n",
    "\n",
    "    # keeping only the positive classes from the probabilities (proba_[:, 1]) and\n",
    "    # calculated false positive rates and true positive rates\n",
    "    fpr, tpr, _ = roc_curve(y_test, proba_[:, 1])\n",
    "    roc_auc = auc(fpr, tpr)\n",
    "\n",
    "    # fpr, tpr and auc score is recorded for this model for this particular iteration of kfolds\n",
    "    model_auc_roc[model].append((fpr, tpr, roc_auc))\n",
    "    model_end_time = time.time() - model_start_time\n",
    "    print(\"Model total time: {}\".format(model_end_time))\n",
    "\n",
    "  iter_end_time = time.time() - iter_start_time\n",
    "  print(\"Iteration {} total time: {}\".format(curr_iter, iter_end_time))\n",
    "  curr_iter += 1\n",
    "\n",
    "\n",
    "print(\"\\nThe below features are selected by the models atleast once during the feature selection phase in {} fold CV\"\n",
    "   .format(n_fold))\n",
    "for model in model_features:\n",
    "    print(\"\\nModel: {}\".format(model))\n",
    "    print(\"Features: {}\".format(model_features[model]))"
   ]
  },
  {
   "cell_type": "markdown",
   "metadata": {
    "id": "jdHyA_eFdPsR"
   },
   "source": [
    "**Display performance metrices for all the models**"
   ]
  },
  {
   "cell_type": "code",
   "execution_count": 10,
   "metadata": {
    "colab": {
     "base_uri": "https://localhost:8080/"
    },
    "id": "beGwQCjnVtDC",
    "outputId": "a18126dc-1fc6-49e2-db79-2adcf1819bc9"
   },
   "outputs": [
    {
     "name": "stdout",
     "output_type": "stream",
     "text": [
      "\n",
      "Model: NB_Gaussian\n",
      "Precision: 0.6776625926054638\n",
      "Recall: 0.4830040325299742\n",
      "FScore: 0.5639938397889981\n",
      "Accuracy: 0.626842857142857\n",
      "\n",
      "Model: SGD\n",
      "Precision: 0.6476525244920015\n",
      "Recall: 0.6190567917703202\n",
      "FScore: 0.6330000197068286\n",
      "Accuracy: 0.6413285714285715\n"
     ]
    }
   ],
   "source": [
    "for model in model_metrics:\n",
    "    precision = 0\n",
    "    recall = 0\n",
    "    fscore = 0\n",
    "    for iter_each in model_metrics[model]:\n",
    "        #print(iter_each)\n",
    "        precision += iter_each[0]\n",
    "        recall += iter_each[1]\n",
    "        fscore += iter_each[2]\n",
    "    precision = precision / n_fold\n",
    "    recall = recall / n_fold\n",
    "    fscore = fscore / n_fold\n",
    "    print(\"\\nModel: {}\".format(model))\n",
    "    print(\"Precision: {}\".format(precision))\n",
    "    print(\"Recall: {}\".format(recall))\n",
    "    print(\"FScore: {}\".format(fscore))\n",
    "    print(\"Accuracy: {}\".format(np.mean(model_accuracies[model])))"
   ]
  },
  {
   "cell_type": "markdown",
   "metadata": {
    "id": "MultKxPKdoh3"
   },
   "source": [
    "**AUC-ROC Graph**"
   ]
  },
  {
   "cell_type": "code",
   "execution_count": 11,
   "metadata": {
    "colab": {
     "base_uri": "https://localhost:8080/",
     "height": 1000
    },
    "id": "zz13oY50FHVW",
    "outputId": "0c81ff03-dd0a-48b8-a89e-353ead8b0971"
   },
   "outputs": [
    {
     "data": {
      "image/png": "[encoded data removed]",
      "text/plain": [
       "<Figure size 504x504 with 1 Axes>"
      ]
     },
     "metadata": {
      "needs_background": "light"
     },
     "output_type": "display_data"
    },
    {
     "name": "stdout",
     "output_type": "stream",
     "text": [
      "\n",
      "\n"
     ]
    },
    {
     "data": {
      "image/png": "[encoded data removed]",
      "text/plain": [
       "<Figure size 504x504 with 1 Axes>"
      ]
     },
     "metadata": {
      "needs_background": "light"
     },
     "output_type": "display_data"
    },
    {
     "name": "stdout",
     "output_type": "stream",
     "text": [
      "\n",
      "\n"
     ]
    }
   ],
   "source": [
    "# plotting graph for all models with the roc_auc parameters from model_auc_roc dictionary\n",
    "for model in model_auc_roc:\n",
    "  plt.figure(figsize=(7,7))\n",
    "  for i, score in enumerate(model_auc_roc[model]):\n",
    "    fpr = score[0]\n",
    "    tpr = score[1]\n",
    "    roc_auc = score[2]\n",
    "    plt.plot(fpr, tpr, lw=1, alpha=0.3, label='ROC for fold %d (AUC = %0.2f)' % (i+1, roc_auc))\n",
    "\n",
    "  plt.plot([0, 1], [0, 1], linestyle='--', lw=2, color='r',\n",
    "          label='Chance', alpha=.8)\n",
    "  plt.xlabel('False Positive Rate',fontsize=12)\n",
    "  plt.ylabel('True Positive Rate',fontsize=12)\n",
    "  plt.title('Cross-Validation ROC: '+model,fontsize=15)\n",
    "  plt.legend()\n",
    "  plt.show()\n",
    "  print(\"\\n\")"
   ]
  },
  {
   "cell_type": "markdown",
   "metadata": {
    "id": "YBBGAynbeswz"
   },
   "source": [
    "**Plotting Bar Chart for accuracy comparison between models**"
   ]
  },
  {
   "cell_type": "code",
   "execution_count": 12,
   "metadata": {
    "colab": {
     "base_uri": "https://localhost:8080/",
     "height": 427
    },
    "id": "oUTpNqdiVtDE",
    "outputId": "f21c53f5-1113-4630-e9d3-28004e1597d1"
   },
   "outputs": [
    {
     "data": {
      "text/plain": [
       "Text(0, 0.5, 'Accuracy in percentage')"
      ]
     },
     "execution_count": 12,
     "metadata": {},
     "output_type": "execute_result"
    },
    {
     "data": {
      "image/png": "[encoded data removed]",
      "text/plain": [
       "<Figure size 576x432 with 1 Axes>"
      ]
     },
     "metadata": {
      "needs_background": "light"
     },
     "output_type": "display_data"
    }
   ],
   "source": [
    "x = []\n",
    "y = []\n",
    "\n",
    "for model in models:\n",
    "    x.append(model)\n",
    "    y.append(np.mean(model_accuracies[model]))\n",
    "    \n",
    "\n",
    "df = pd.DataFrame({\"X\":x, \"Y\":y})\n",
    "\n",
    "plt.figure(figsize=(8, 6))\n",
    "splot=sns.barplot(x=\"X\",y=\"Y\",data=df)\n",
    "for p in splot.patches:\n",
    "    splot.annotate(format(p.get_height(), '.2f'), \n",
    "                   (p.get_x() + p.get_width() / 2., p.get_height()), \n",
    "                   ha = 'center', va = 'center', \n",
    "                   xytext = (0, 9), \n",
    "                   textcoords = 'offset points')\n",
    "    \n",
    "plt.title(\"Accuracy\")\n",
    "plt.xlabel(\"Classifier Algorithms\",size=14)\n",
    "plt.ylabel(\"Accuracy in percentage\",size=14)"
   ]
  }
 ],
 "metadata": {
  "colab": {
   "collapsed_sections": [],
   "name": "Cardio_Project_V7.ipynb",
   "provenance": []
  },
  "kernelspec": {
   "display_name": "Python 3",
   "language": "python",
   "name": "python3"
  },
  "language_info": {
   "codemirror_mode": {
    "name": "ipython",
    "version": 3
   },
   "file_extension": ".py",
   "mimetype": "text/x-python",
   "name": "python",
   "nbconvert_exporter": "python",
   "pygments_lexer": "ipython3",
   "version": "3.8.5"
  },
  "widgets": {
   "application/vnd.jupyter.widget-state+json": {
    "2fd553b3d79e46f7adfab826fea6c8ac": {
     "model_module": "@jupyter-widgets/base",
     "model_name": "LayoutModel",
     "state": {
      "_model_module": "@jupyter-widgets/base",
      "_model_module_version": "1.2.0",
      "_model_name": "LayoutModel",
      "_view_count": null,
      "_view_module": "@jupyter-widgets/base",
      "_view_module_version": "1.2.0",
      "_view_name": "LayoutView",
      "align_content": null,
      "align_items": null,
      "align_self": null,
      "border": null,
      "bottom": null,
      "display": null,
      "flex": null,
      "flex_flow": null,
      "grid_area": null,
      "grid_auto_columns": null,
      "grid_auto_flow": null,
      "grid_auto_rows": null,
      "grid_column": null,
      "grid_gap": null,
      "grid_row": null,
      "grid_template_areas": null,
      "grid_template_columns": null,
      "grid_template_rows": null,
      "height": null,
      "justify_content": null,
      "justify_items": null,
      "left": null,
      "margin": null,
      "max_height": null,
      "max_width": null,
      "min_height": null,
      "min_width": null,
      "object_fit": null,
      "object_position": null,
      "order": null,
      "overflow": null,
      "overflow_x": null,
      "overflow_y": null,
      "padding": null,
      "right": null,
      "top": null,
      "visibility": null,
      "width": null
     }
    },
    "3debf3575c354ae1918197a8a04fb6c4": {
     "model_module": "@jupyter-widgets/controls",
     "model_name": "DescriptionStyleModel",
     "state": {
      "_model_module": "@jupyter-widgets/controls",
      "_model_module_version": "1.5.0",
      "_model_name": "DescriptionStyleModel",
      "_view_count": null,
      "_view_module": "@jupyter-widgets/base",
      "_view_module_version": "1.2.0",
      "_view_name": "StyleView",
      "description_width": ""
     }
    },
    "43c1ae01f83845a8b6c718b5be74f471": {
     "model_module": "@jupyter-widgets/base",
     "model_name": "LayoutModel",
     "state": {
      "_model_module": "@jupyter-widgets/base",
      "_model_module_version": "1.2.0",
      "_model_name": "LayoutModel",
      "_view_count": null,
      "_view_module": "@jupyter-widgets/base",
      "_view_module_version": "1.2.0",
      "_view_name": "LayoutView",
      "align_content": null,
      "align_items": null,
      "align_self": null,
      "border": null,
      "bottom": null,
      "display": null,
      "flex": null,
      "flex_flow": null,
      "grid_area": null,
      "grid_auto_columns": null,
      "grid_auto_flow": null,
      "grid_auto_rows": null,
      "grid_column": null,
      "grid_gap": null,
      "grid_row": null,
      "grid_template_areas": null,
      "grid_template_columns": null,
      "grid_template_rows": null,
      "height": null,
      "justify_content": null,
      "justify_items": null,
      "left": null,
      "margin": null,
      "max_height": null,
      "max_width": null,
      "min_height": null,
      "min_width": null,
      "object_fit": null,
      "object_position": null,
      "order": null,
      "overflow": null,
      "overflow_x": null,
      "overflow_y": null,
      "padding": null,
      "right": null,
      "top": null,
      "visibility": null,
      "width": null
     }
    },
    "6299cd691fb644629b30f30e90106e88": {
     "model_module": "@jupyter-widgets/controls",
     "model_name": "HTMLModel",
     "state": {
      "_dom_classes": [],
      "_model_module": "@jupyter-widgets/controls",
      "_model_module_version": "1.5.0",
      "_model_name": "HTMLModel",
      "_view_count": null,
      "_view_module": "@jupyter-widgets/controls",
      "_view_module_version": "1.5.0",
      "_view_name": "HTMLView",
      "description": "",
      "description_tooltip": null,
      "layout": "IPY_MODEL_8c3d73ac01ec43169ea469172e131de9",
      "placeholder": "​",
      "style": "IPY_MODEL_3debf3575c354ae1918197a8a04fb6c4",
      "value": " 5/5 [13:19&lt;00:00, 159.82s/it]"
     }
    },
    "86e1d8a2c6d045909770e9cf813f0cac": {
     "model_module": "@jupyter-widgets/controls",
     "model_name": "FloatProgressModel",
     "state": {
      "_dom_classes": [],
      "_model_module": "@jupyter-widgets/controls",
      "_model_module_version": "1.5.0",
      "_model_name": "FloatProgressModel",
      "_view_count": null,
      "_view_module": "@jupyter-widgets/controls",
      "_view_module_version": "1.5.0",
      "_view_name": "ProgressView",
      "bar_style": "success",
      "description": "100%",
      "description_tooltip": null,
      "layout": "IPY_MODEL_2fd553b3d79e46f7adfab826fea6c8ac",
      "max": 5,
      "min": 0,
      "orientation": "horizontal",
      "style": "IPY_MODEL_ee1f31110824482cad7a31a8251e0df9",
      "value": 5
     }
    },
    "8c3d73ac01ec43169ea469172e131de9": {
     "model_module": "@jupyter-widgets/base",
     "model_name": "LayoutModel",
     "state": {
      "_model_module": "@jupyter-widgets/base",
      "_model_module_version": "1.2.0",
      "_model_name": "LayoutModel",
      "_view_count": null,
      "_view_module": "@jupyter-widgets/base",
      "_view_module_version": "1.2.0",
      "_view_name": "LayoutView",
      "align_content": null,
      "align_items": null,
      "align_self": null,
      "border": null,
      "bottom": null,
      "display": null,
      "flex": null,
      "flex_flow": null,
      "grid_area": null,
      "grid_auto_columns": null,
      "grid_auto_flow": null,
      "grid_auto_rows": null,
      "grid_column": null,
      "grid_gap": null,
      "grid_row": null,
      "grid_template_areas": null,
      "grid_template_columns": null,
      "grid_template_rows": null,
      "height": null,
      "justify_content": null,
      "justify_items": null,
      "left": null,
      "margin": null,
      "max_height": null,
      "max_width": null,
      "min_height": null,
      "min_width": null,
      "object_fit": null,
      "object_position": null,
      "order": null,
      "overflow": null,
      "overflow_x": null,
      "overflow_y": null,
      "padding": null,
      "right": null,
      "top": null,
      "visibility": null,
      "width": null
     }
    },
    "bdd4ddaa2260454a818cd5c069a934ce": {
     "model_module": "@jupyter-widgets/controls",
     "model_name": "HBoxModel",
     "state": {
      "_dom_classes": [],
      "_model_module": "@jupyter-widgets/controls",
      "_model_module_version": "1.5.0",
      "_model_name": "HBoxModel",
      "_view_count": null,
      "_view_module": "@jupyter-widgets/controls",
      "_view_module_version": "1.5.0",
      "_view_name": "HBoxView",
      "box_style": "",
      "children": [
       "IPY_MODEL_86e1d8a2c6d045909770e9cf813f0cac",
       "IPY_MODEL_6299cd691fb644629b30f30e90106e88"
      ],
      "layout": "IPY_MODEL_43c1ae01f83845a8b6c718b5be74f471"
     }
    },
    "ee1f31110824482cad7a31a8251e0df9": {
     "model_module": "@jupyter-widgets/controls",
     "model_name": "ProgressStyleModel",
     "state": {
      "_model_module": "@jupyter-widgets/controls",
      "_model_module_version": "1.5.0",
      "_model_name": "ProgressStyleModel",
      "_view_count": null,
      "_view_module": "@jupyter-widgets/base",
      "_view_module_version": "1.2.0",
      "_view_name": "StyleView",
      "bar_color": null,
      "description_width": "initial"
     }
    }
   }
  }
 },
 "nbformat": 4,
 "nbformat_minor": 1
}
